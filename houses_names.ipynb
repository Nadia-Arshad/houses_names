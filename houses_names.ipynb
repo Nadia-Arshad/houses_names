{
  "nbformat": 4,
  "nbformat_minor": 0,
  "metadata": {
    "colab": {
      "provenance": []
    },
    "kernelspec": {
      "name": "python3",
      "display_name": "Python 3"
    },
    "language_info": {
      "name": "python"
    }
  },
  "cells": [
    {
      "cell_type": "markdown",
      "source": [
        "Use of Match, Case & If Loop:"
      ],
      "metadata": {
        "id": "GWIKBEU-lOKj"
      }
    },
    {
      "cell_type": "code",
      "source": [
        "name = input(\"What's your name? \")\n",
        "if name in [\"Harry\", \"Hermione\", \"Ron\"]:\n",
        "  print(\"Gryffindor\")\n",
        "elif name == \"Draco\":\n",
        "  print(\"Slytherine\")\n",
        "else:\n",
        "  print(\"Who\")"
      ],
      "metadata": {
        "colab": {
          "base_uri": "https://localhost:8080/"
        },
        "id": "rafx0LMQkGgj",
        "outputId": "2de20dea-6fae-4791-b1bc-ab4cc5c40d14"
      },
      "execution_count": null,
      "outputs": [
        {
          "output_type": "stream",
          "name": "stdout",
          "text": [
            "What's your name? Naida\n",
            "Who\n"
          ]
        }
      ]
    },
    {
      "cell_type": "code",
      "source": [
        "name = input(\"What is your name? \").title()\n",
        "match name:\n",
        "  case \"Harry\" | \"Hermione\" | \"Ron\":\n",
        "    print(\"Gryffindor\")\n",
        "  case \"Draco\":\n",
        "    print(\"Slytherin\")\n",
        "  case _:\n",
        "    print(\"Who?\")"
      ],
      "metadata": {
        "colab": {
          "base_uri": "https://localhost:8080/"
        },
        "id": "bYT6-cWQkGG5",
        "outputId": "f6bc757b-4831-4cfa-d5d2-f6d3bdc2e89a"
      },
      "execution_count": null,
      "outputs": [
        {
          "output_type": "stream",
          "name": "stdout",
          "text": [
            "What is your name? HARRY\n",
            "Gryffindor\n"
          ]
        }
      ]
    },
    {
      "cell_type": "code",
      "source": [
        "number = 3   #this is to set the counter for the increment later on.\n",
        "while number != 0:   #this line asks a question and the answer has to be a boolean, in case of True, it will go to the next line.\n",
        "  print(number, end= \" \")\n",
        "  number -= 1 # this is make sure our while loop won't fall in infinite loop.\n"
      ],
      "metadata": {
        "colab": {
          "base_uri": "https://localhost:8080/"
        },
        "id": "fMATYAIjsS4h",
        "outputId": "5ebe9075-98d2-4fc3-f4d1-2ca6198c1ae1"
      },
      "execution_count": null,
      "outputs": [
        {
          "output_type": "stream",
          "name": "stdout",
          "text": [
            "3 2 1 "
          ]
        }
      ]
    },
    {
      "cell_type": "code",
      "source": [
        "number = 0\n",
        "while number < 3:\n",
        "  print(\"meow\", end= \" \")\n",
        "  number += 1"
      ],
      "metadata": {
        "id": "idfP_nDJsS1G",
        "colab": {
          "base_uri": "https://localhost:8080/"
        },
        "outputId": "a003ee24-3c64-4d75-b00a-a9e2b71ad8a5"
      },
      "execution_count": 3,
      "outputs": [
        {
          "output_type": "stream",
          "name": "stdout",
          "text": [
            "meow meow meow "
          ]
        }
      ]
    },
    {
      "cell_type": "code",
      "source": [
        "for i in range(3):\n",
        "  print(\"meow\")"
      ],
      "metadata": {
        "id": "5hjk1rs7sShq",
        "colab": {
          "base_uri": "https://localhost:8080/"
        },
        "outputId": "b2bb7b9d-9a10-4653-c2b2-811187dc3809"
      },
      "execution_count": 4,
      "outputs": [
        {
          "output_type": "stream",
          "name": "stdout",
          "text": [
            "meow\n",
            "meow\n",
            "meow\n"
          ]
        }
      ]
    },
    {
      "cell_type": "code",
      "source": [
        "for i in [0, 1, 2]:\n",
        "  print(\"meow\")"
      ],
      "metadata": {
        "id": "v6kLzdlehb5h",
        "colab": {
          "base_uri": "https://localhost:8080/"
        },
        "outputId": "e55660cd-c488-48af-8be5-25097ea3faea"
      },
      "execution_count": 5,
      "outputs": [
        {
          "output_type": "stream",
          "name": "stdout",
          "text": [
            "meow\n",
            "meow\n",
            "meow\n"
          ]
        }
      ]
    },
    {
      "cell_type": "code",
      "source": [
        "# When you want the user to give a desired number. In our case a positive number:\n",
        "# We are using \"While\" loop, to start an infinite loop and will break it once the condition is True.\n",
        "\n",
        "while True:\n",
        "# We will ask a question here.\n",
        "  n = int(input(\"What is n? \"))\n",
        "# Here we're setting a question, if true the loop will break\n",
        "  if n > 0:\n",
        "    break\n",
        "\n",
        "for _ in range(n):\n",
        "  print(\"meow\")"
      ],
      "metadata": {
        "colab": {
          "base_uri": "https://localhost:8080/"
        },
        "id": "rp-2qhTXKGHq",
        "outputId": "03812936-c777-4979-957e-28458c281d8f"
      },
      "execution_count": 7,
      "outputs": [
        {
          "output_type": "stream",
          "name": "stdout",
          "text": [
            "What is n? 3\n",
            "meow\n",
            "meow\n",
            "meow\n"
          ]
        }
      ]
    },
    {
      "cell_type": "code",
      "source": [
        "def main():\n",
        "  number = get_number()\n",
        "  meow(10)\n",
        "\n",
        "\n",
        "def meow(n):\n",
        "  for _ in range(n):\n",
        "    print(\"meow\")\n",
        "\n",
        "def get_number():\n",
        "  while True:\n",
        "    if n > 0:     # the next line could be \"break\" as well.\n",
        "      return n # Unlike before without a function we have to \"return\" the value in function. So that we know once the function is done, what did we get.\n",
        "\n",
        "main()\n"
      ],
      "metadata": {
        "colab": {
          "base_uri": "https://localhost:8080/"
        },
        "id": "bo-4LOzENwrw",
        "outputId": "40894cb5-aeae-4c92-c868-c7ee675f36af"
      },
      "execution_count": 10,
      "outputs": [
        {
          "output_type": "stream",
          "name": "stdout",
          "text": [
            "meow\n",
            "meow\n",
            "meow\n",
            "meow\n",
            "meow\n",
            "meow\n",
            "meow\n",
            "meow\n",
            "meow\n",
            "meow\n"
          ]
        }
      ]
    },
    {
      "cell_type": "code",
      "source": [],
      "metadata": {
        "id": "PhBVbhR2Omvs"
      },
      "execution_count": null,
      "outputs": []
    }
  ]
}